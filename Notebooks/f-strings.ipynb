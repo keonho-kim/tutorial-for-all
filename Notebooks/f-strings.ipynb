{
 "cells": [
  {
   "cell_type": "markdown",
   "id": "6a353954",
   "metadata": {},
   "source": [
    "# F-string\n",
    "\n",
    "모든 프로그래머들이 가장 많이 사용하는 기능은 무엇일까요?\n",
    "\n",
    "저는 아무래도 출력하는 함수, C언어의 printf()라던지, JavaScript의 console.log() 그리고 파이썬의 print() 아닐까 합니다.\n",
    "\n",
    "출력 자체를 위해서도 사용하는 경우가 압도적이겠지만, 프로그래밍에서 사실상 메인이 되는 디버깅 과정에서 어디서 작동이 안되나 기도하면서(...) 확인하는 용도로도 매 과정마다 넣기도 합니다.\n",
    "\n",
    "여튼, 파이썬이 C와 같이 상대적으로 low-level 언어들에 비해서는 느리기는 하지만 대신 이런저런 기능들을 많이 장착해서 사용자가 편리하게 쓸 수 있도록 해두었습니다. \n",
    "\n",
    "\n",
    "\n",
    "\n",
    "<center><B><I>\n",
    "\"알고있다면요\"\n",
    "</B></I></center>\n",
    "\n",
    "\n",
    "\n",
    "당연한 이야기지만 모르면 못쓰는겁니다.\n",
    "\n",
    "오늘은 그 중 파이썬의 변수를 출력하는데 편의를 더해주는 f-strings에 대해서 짚고 넘어가겠습니다. 파이썬을 좀 다뤄보셨다면 대게 아시지만, 이런 기능성이 강한 함수들은 다른 언어에서 넘어오신 분들은 관심이 없어서 잘 모르시거나 말 그대로 딱히 안가르쳐주니까 초보자 분들도 잘 모르시더라구요. 꽤 유용한 방식입니다.\n",
    "\n",
    "그냥 print() 쓰면 안되냐 하실 수 있으나, f-strings를 사용하면 코드를 간결하게 유지 할 수 있고 따라서 가독성이 향상됩니다. 제 경우에는 코드가 길어지면 글자 자체가 눈에 안들어오는 경우가 왕왕 있는데, 이런 소소한 트릭들이 쌓이고 쌓이니 그나마 읽어줄만한 코드가 만들어지더라구요.\n",
    "\n",
    "본 아티클은 Medium 블로그 [Zoltan Guba: F-strings in Python: Great Tricks to Increase Productivity](https://medium.com/@zoltan.guba/f-strings-in-python-great-tricks-to-increase-productivity-796407206f35) 기반으로 작성되었습니다."
   ]
  },
  {
   "cell_type": "markdown",
   "id": "bda586cb",
   "metadata": {},
   "source": [
    "# F-string이란\n",
    "\n",
    "F-string은 string 내에 format 함수를 사용하여 변수들을 넣어 출력하는 과정을 단순화한 방법입니다.\n",
    "\n",
    "format을 사용해서 string을 출력하는 방법은 다음과 같습니다."
   ]
  },
  {
   "cell_type": "code",
   "execution_count": 2,
   "id": "7bfb58d5",
   "metadata": {},
   "outputs": [
    {
     "name": "stdout",
     "output_type": "stream",
     "text": [
      "출력하기 변수: 변수1 변수2\n"
     ]
    }
   ],
   "source": [
    "var1 = \"변수1\"\n",
    "var2 = \"변수2\"\n",
    "\n",
    "print(\"출력하기 변수: {} {}\".format(var1, var2))"
   ]
  },
  {
   "cell_type": "markdown",
   "id": "a62e0361",
   "metadata": {},
   "source": [
    "이 방식도 나쁘진 않습니다. 어려울 것도 없요. 다만 좀 더 \"코드\"스러운 느낌이 있어서 가독성을 떨어뜨리는 녀석입니다. 물론 본인이 쓴 경우에는 괜찮지만, 남이 쓴 코드들을 읽다보면... 좀 그래요.\n",
    "\n",
    "요걸 좀 더 \"읽을만하게\" 만들어주는 방식이 f-strings입니다."
   ]
  },
  {
   "cell_type": "code",
   "execution_count": 3,
   "id": "3aa2859d",
   "metadata": {},
   "outputs": [
    {
     "name": "stdout",
     "output_type": "stream",
     "text": [
      "출력하기 변수: 변수1 변수2\n"
     ]
    }
   ],
   "source": [
    "print(f\"출력하기 변수: {var1} {var2}\")"
   ]
  },
  {
   "cell_type": "markdown",
   "id": "ff1732a1",
   "metadata": {},
   "source": [
    "사용법은 간단합니다. \n",
    "\n",
    "print()를 작성 할 때에 따옴표 앞에 f를 붙여주면 함수 내에 중괄호 {} 안에 변수를 넣어주면 해당 변수를 출력 할 수 있습니다.\n",
    "\n",
    "숙련된 프로그래머 분들은 \"이렇게 써야겠다\" 감이 오지만, 초보자 분들을 위해서 용례를 남기겠습니다."
   ]
  },
  {
   "cell_type": "markdown",
   "id": "fe06bccf",
   "metadata": {},
   "source": [
    "# 반복문 (loop statement)\n",
    "\n",
    "반복문 내에서 어떤 변수가 선언되어 값이 변동 할 때 출력으로 사용 할 수 있습니다.\n",
    "\n",
    "예를 들어서 난수를 생성하고 해당 값을 출력하는 예시입니다. \n",
    "\n",
    "단, 매 반복의 횟수 값을 최대값으로, 그리고 최소값을 해당 반복 횟수에 - 부호를 붙여 범위가 재정의되는 경우입니다."
   ]
  },
  {
   "cell_type": "code",
   "execution_count": 4,
   "id": "77be8745",
   "metadata": {},
   "outputs": [
    {
     "name": "stdout",
     "output_type": "stream",
     "text": [
      "새로운 난수 : 1\n",
      "새로운 난수 : -1\n",
      "새로운 난수 : 2\n",
      "새로운 난수 : 0\n",
      "새로운 난수 : 4\n",
      "새로운 난수 : 2\n",
      "새로운 난수 : 5\n",
      "새로운 난수 : -3\n",
      "새로운 난수 : -3\n",
      "새로운 난수 : 0\n"
     ]
    }
   ],
   "source": [
    "import random\n",
    "\n",
    "for i in range(10):\n",
    "    print(f\"새로운 난수 : {random.randint(-i, i+1)}\")"
   ]
  },
  {
   "cell_type": "markdown",
   "id": "8b653dc5",
   "metadata": {},
   "source": [
    "# 등호 (Equal Sign)\n",
    "\n",
    "조금 특이한 방법인데, 변수의 이름과 변수의 내용을 동시에 출력하는 방법입니다.\n",
    "\n",
    "사용 방법은 {변수명 =} 입니다.\n",
    "\n",
    "단, 파이썬 3.8 버전 이상에서 작동합니다.\n",
    "\n",
    "저는 현재 3.8.12 버전이 설치되어있고, 가장 최신버전은 3.10 버전입니다."
   ]
  },
  {
   "cell_type": "code",
   "execution_count": 5,
   "id": "fc626711",
   "metadata": {},
   "outputs": [
    {
     "name": "stdout",
     "output_type": "stream",
     "text": [
      "Python 3.8.12\n"
     ]
    }
   ],
   "source": [
    "!python --version"
   ]
  },
  {
   "cell_type": "markdown",
   "id": "ee3f7fe2",
   "metadata": {},
   "source": [
    "사용법은 다음과 같습니다."
   ]
  },
  {
   "cell_type": "code",
   "execution_count": 6,
   "id": "c3a24fea",
   "metadata": {},
   "outputs": [
    {
     "name": "stdout",
     "output_type": "stream",
     "text": [
      "info : name='Charlie', city='NYC'\n"
     ]
    }
   ],
   "source": [
    "name = 'Charlie'\n",
    "city = 'NYC'\n",
    "\n",
    "print(f\"info : {name=}, {city=}\")"
   ]
  },
  {
   "cell_type": "markdown",
   "id": "d3ae5c5c",
   "metadata": {},
   "source": [
    "사용법이 어렵지는 않지요?\n",
    "\n",
    "추가적으로 내부 연산도 가능합니다."
   ]
  },
  {
   "cell_type": "code",
   "execution_count": 1,
   "id": "0186201c",
   "metadata": {},
   "outputs": [
    {
     "name": "stdout",
     "output_type": "stream",
     "text": [
      "info : val1-val2=50\n"
     ]
    }
   ],
   "source": [
    "val1 = 100\n",
    "val2 = 50\n",
    "\n",
    "print(f\"info : {val1-val2=}\")"
   ]
  },
  {
   "cell_type": "markdown",
   "id": "468a5768",
   "metadata": {},
   "source": [
    "# Formatting\n",
    "\n",
    "내부에서 formatting 역시 지원합니다. \n",
    "\n",
    "formatting이라 함은 날짜 데이터를 특정 양식으로 보여준다거나 소수점을 2자리로 줄이거나 하는 것들을 의미합니다.\n",
    "\n",
    "```python\n",
    "print(f\"{value : something}\")\n",
    "```"
   ]
  },
  {
   "cell_type": "code",
   "execution_count": 16,
   "id": "f0446ef9",
   "metadata": {},
   "outputs": [
    {
     "name": "stdout",
     "output_type": "stream",
     "text": [
      "formatting 없이 하기: 2022-01-24 13:51:34.180198\n",
      "formatting 하기 : 2022-01-24, Monday\n"
     ]
    }
   ],
   "source": [
    "# 날짜\n",
    "import datetime\n",
    "\n",
    "today = datetime.datetime.today()\n",
    "print(f\"formatting 없이 하기: {today}\")\n",
    "print(f\"formatting 하기 : {today:%Y-%m-%d, %A}\")"
   ]
  },
  {
   "cell_type": "code",
   "execution_count": 18,
   "id": "60478a26",
   "metadata": {},
   "outputs": [
    {
     "name": "stdout",
     "output_type": "stream",
     "text": [
      "0.26\n",
      "0.263\n"
     ]
    }
   ],
   "source": [
    "# 반올림하기\n",
    "\n",
    "print(f\"{0.262614186:.2f}\")\n",
    "print(f\"{0.262614186:.3f}\")"
   ]
  },
  {
   "cell_type": "markdown",
   "id": "a312c77e",
   "metadata": {},
   "source": [
    "# 텍스트 정렬\n",
    "\n",
    "텍스트 정렬 할 일이 크게 많을까 싶지만, 이런 기능이 들어있다는 사실 자체가 신기해서 넣었습니다.\n"
   ]
  },
  {
   "cell_type": "code",
   "execution_count": 20,
   "id": "14b7a06d",
   "metadata": {},
   "outputs": [
    {
     "name": "stdout",
     "output_type": "stream",
     "text": [
      "              blahblahblahblah\n",
      "blahblahblahblah              \n",
      "       blahblahblahblah       \n"
     ]
    }
   ],
   "source": [
    "word = \"blahblahblahblah\"\n",
    "\n",
    "# > 숫자 : 오른쪽으로 숫자만큼 이동\n",
    "print(f\"{word:>30}\")\n",
    "\n",
    "# < 숫자 : 왼쪽으로 숫자만큼 이동\n",
    "print(f\"{word:<30}\")\n",
    "\n",
    "# ^ 숫자 : 좌우 공백이 숫자만큼인 가운데 정렬\n",
    "print(f\"{word:^30}\")\n"
   ]
  },
  {
   "cell_type": "markdown",
   "id": "c521cc45",
   "metadata": {},
   "source": [
    "왼쪽 정렬은 솔직히 필요가 있을까 싶지만.. 혹시 모르니까요. \n",
    "\n",
    "# 끝으로........\n",
    "\n",
    "코드를 깔끔하게 짜는 것은 Clean Code 같은 책에서 제시하는 원론적인 방법들도 있지만, 때때로는 소소한 기능들을 하나씩 배워서 작성한다면 코드 자체가 짧아지는 길입니다.\n",
    "\n",
    "특히나 Python은 소위 말해 \"Pythonic\", 파이썬스러운 코드 작성법들이 있기에 이런 방법들을 쌓아나가시면 도움이 될 것입니다."
   ]
  }
 ],
 "metadata": {
  "interpreter": {
   "hash": "9eacbbb55a165d2b316e890ff0b2a900eab878f9c11f00e898f3eef26bcce9c8"
  },
  "kernelspec": {
   "display_name": "Python 3.8.12 64-bit ('base': conda)",
   "language": "python",
   "name": "python3"
  },
  "language_info": {
   "codemirror_mode": {
    "name": "ipython",
    "version": 3
   },
   "file_extension": ".py",
   "mimetype": "text/x-python",
   "name": "python",
   "nbconvert_exporter": "python",
   "pygments_lexer": "ipython3",
   "version": "3.8.12"
  }
 },
 "nbformat": 4,
 "nbformat_minor": 5
}
